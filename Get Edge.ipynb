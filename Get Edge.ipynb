{
 "cells": [
  {
   "cell_type": "code",
   "execution_count": 67,
   "id": "cdaee8df",
   "metadata": {},
   "outputs": [
    {
     "name": "stdout",
     "output_type": "stream",
     "text": [
      "237   312\n",
      "195   325\n",
      "168   327\n",
      "147   314\n",
      "139   291\n",
      "145   264\n",
      "161   241\n",
      "179   232\n",
      "198   230\n",
      "227   235\n",
      "241   244\n",
      "253   261\n",
      "258   283\n",
      "252   301\n",
      "240   312\n",
      "237   322\n",
      "229   331\n",
      "220   336\n",
      "208   337\n",
      "198   330\n",
      "195   328\n"
     ]
    }
   ],
   "source": [
    "# importing the module\n",
    "import cv2\n",
    "  \n",
    "xCoordinates = []\n",
    "yCoordinates = []\n",
    "# function to display the coordinates of\n",
    "# of the points clicked on the image\n",
    "def click_event(event, x, y, flags, params):\n",
    "     \n",
    "    # checking for left mouse clicks\n",
    "    if event == cv2.EVENT_LBUTTONDOWN:\n",
    " \n",
    "        # displaying the coordinates\n",
    "        # on the Shell\n",
    "        print(x, ' ', y)\n",
    "         \n",
    "        xCoordinates.append(x)\n",
    "        yCoordinates.append(y)\n",
    "            \n",
    "        # displaying the coordinates\n",
    "        # on the image window\n",
    "        font = cv2.FONT_HERSHEY_SIMPLEX\n",
    "        cv2.imshow('image', img)\n",
    " \n",
    "    # checking for right mouse clicks    \n",
    "    if event==cv2.EVENT_RBUTTONDOWN:\n",
    " \n",
    "        # displaying the coordinates\n",
    "        # on the Shell\n",
    "        print(x, ' ', y)\n",
    " \n",
    "        # displaying the coordinates\n",
    "        # on the image window\n",
    "        font = cv2.FONT_HERSHEY_SIMPLEX\n",
    "        b = img[y, x, 0]\n",
    "        g = img[y, x, 1]\n",
    "        r = img[y, x, 2]\n",
    "        cv2.imshow('image', img)\n",
    " \n",
    "# driver function\n",
    "if __name__==\"__main__\":\n",
    " \n",
    "    # reading the image\n",
    "    img = cv2.imread('Klee-Resized Version 1.jpg', 1)\n",
    " \n",
    "    # displaying the image\n",
    "    cv2.imshow('image', img)\n",
    " \n",
    "    # setting mouse handler for the image\n",
    "    # and calling the click_event() function\n",
    "    cv2.setMouseCallback('image', click_event)\n",
    " \n",
    "    # wait for a key to be pressed to exit\n",
    "    cv2.waitKey(0)\n",
    " \n",
    "    # close the window\n",
    "    cv2.destroyAllWindows()"
   ]
  },
  {
   "cell_type": "code",
   "execution_count": 68,
   "id": "cb0611f3",
   "metadata": {},
   "outputs": [
    {
     "name": "stdout",
     "output_type": "stream",
     "text": [
      "[237, 195, 168, 147, 139, 145, 161, 179, 198, 227, 241, 253, 258, 252, 240, 237, 229, 220, 208, 198, 195]\n"
     ]
    }
   ],
   "source": [
    "print(list(xCoordinates))"
   ]
  },
  {
   "cell_type": "code",
   "execution_count": 69,
   "id": "29497e3d",
   "metadata": {},
   "outputs": [
    {
     "name": "stdout",
     "output_type": "stream",
     "text": [
      "[312, 325, 327, 314, 291, 264, 241, 232, 230, 235, 244, 261, 283, 301, 312, 322, 331, 336, 337, 330, 328]\n"
     ]
    }
   ],
   "source": [
    "print(list(yCoordinates))"
   ]
  },
  {
   "cell_type": "code",
   "execution_count": 70,
   "id": "f82c5501",
   "metadata": {},
   "outputs": [
    {
     "name": "stdout",
     "output_type": "stream",
     "text": [
      "21\n"
     ]
    }
   ],
   "source": [
    "print(len(xCoordinates))"
   ]
  },
  {
   "cell_type": "code",
   "execution_count": null,
   "id": "95404796",
   "metadata": {},
   "outputs": [],
   "source": []
  }
 ],
 "metadata": {
  "kernelspec": {
   "display_name": "Python 3",
   "language": "python",
   "name": "python3"
  },
  "language_info": {
   "codemirror_mode": {
    "name": "ipython",
    "version": 3
   },
   "file_extension": ".py",
   "mimetype": "text/x-python",
   "name": "python",
   "nbconvert_exporter": "python",
   "pygments_lexer": "ipython3",
   "version": "3.9.12"
  }
 },
 "nbformat": 4,
 "nbformat_minor": 5
}
